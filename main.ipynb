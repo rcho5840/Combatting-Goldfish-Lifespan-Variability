{
 "cells": [
  {
   "cell_type": "markdown",
   "metadata": {},
   "source": [
    "Import necessary libraries, initialize a pandas dataframe with the fish_data, and observe the features and potential preprocessing paths"
   ]
  },
  {
   "cell_type": "code",
   "execution_count": 1,
   "metadata": {},
   "outputs": [],
   "source": [
    "import pandas as pd\n",
    "import matplotlib.pyplot as plt \n",
    "import numpy as np \n",
    "import seaborn as sns \n",
    "import sklearn"
   ]
  },
  {
   "cell_type": "code",
   "execution_count": 2,
   "metadata": {},
   "outputs": [],
   "source": [
    "data = pd.read_csv(\"fish_data.csv\")"
   ]
  },
  {
   "cell_type": "code",
   "execution_count": 3,
   "metadata": {},
   "outputs": [
    {
     "data": {
      "text/html": [
       "<div>\n",
       "<style scoped>\n",
       "    .dataframe tbody tr th:only-of-type {\n",
       "        vertical-align: middle;\n",
       "    }\n",
       "\n",
       "    .dataframe tbody tr th {\n",
       "        vertical-align: top;\n",
       "    }\n",
       "\n",
       "    .dataframe thead th {\n",
       "        text-align: right;\n",
       "    }\n",
       "</style>\n",
       "<table border=\"1\" class=\"dataframe\">\n",
       "  <thead>\n",
       "    <tr style=\"text-align: right;\">\n",
       "      <th></th>\n",
       "      <th>id</th>\n",
       "      <th>average_length(inches))</th>\n",
       "      <th>average_weight(inches))</th>\n",
       "      <th>habitat</th>\n",
       "      <th>ph_of_water</th>\n",
       "      <th>color</th>\n",
       "      <th>Gender</th>\n",
       "      <th>life_span</th>\n",
       "    </tr>\n",
       "  </thead>\n",
       "  <tbody>\n",
       "    <tr>\n",
       "      <th>0</th>\n",
       "      <td>1</td>\n",
       "      <td>14.69</td>\n",
       "      <td>5.87</td>\n",
       "      <td>ponds</td>\n",
       "      <td>6.2</td>\n",
       "      <td>Reddish_Orange</td>\n",
       "      <td>False</td>\n",
       "      <td>10.9</td>\n",
       "    </tr>\n",
       "    <tr>\n",
       "      <th>1</th>\n",
       "      <td>2</td>\n",
       "      <td>1.32</td>\n",
       "      <td>3.86</td>\n",
       "      <td>idlewater</td>\n",
       "      <td>6.8</td>\n",
       "      <td>Calico</td>\n",
       "      <td>True</td>\n",
       "      <td>5.2</td>\n",
       "    </tr>\n",
       "    <tr>\n",
       "      <th>2</th>\n",
       "      <td>3</td>\n",
       "      <td>14.23</td>\n",
       "      <td>12.09</td>\n",
       "      <td>lakes</td>\n",
       "      <td>7.9</td>\n",
       "      <td>Reddish_Orange</td>\n",
       "      <td>True</td>\n",
       "      <td>25.3</td>\n",
       "    </tr>\n",
       "    <tr>\n",
       "      <th>3</th>\n",
       "      <td>4</td>\n",
       "      <td>2.54</td>\n",
       "      <td>3.20</td>\n",
       "      <td>rivers</td>\n",
       "      <td>6.7</td>\n",
       "      <td>White</td>\n",
       "      <td>False</td>\n",
       "      <td>16.4</td>\n",
       "    </tr>\n",
       "    <tr>\n",
       "      <th>4</th>\n",
       "      <td>5</td>\n",
       "      <td>13.10</td>\n",
       "      <td>9.81</td>\n",
       "      <td>lakes</td>\n",
       "      <td>7.8</td>\n",
       "      <td>Orange</td>\n",
       "      <td>True</td>\n",
       "      <td>3.2</td>\n",
       "    </tr>\n",
       "    <tr>\n",
       "      <th>...</th>\n",
       "      <td>...</td>\n",
       "      <td>...</td>\n",
       "      <td>...</td>\n",
       "      <td>...</td>\n",
       "      <td>...</td>\n",
       "      <td>...</td>\n",
       "      <td>...</td>\n",
       "      <td>...</td>\n",
       "    </tr>\n",
       "    <tr>\n",
       "      <th>1995</th>\n",
       "      <td>1996</td>\n",
       "      <td>16.12</td>\n",
       "      <td>6.46</td>\n",
       "      <td>ponds</td>\n",
       "      <td>8.0</td>\n",
       "      <td>Red_and_White_Bi_Color</td>\n",
       "      <td>NaN</td>\n",
       "      <td>6.4</td>\n",
       "    </tr>\n",
       "    <tr>\n",
       "      <th>1996</th>\n",
       "      <td>1997</td>\n",
       "      <td>7.50</td>\n",
       "      <td>7.07</td>\n",
       "      <td>rivers</td>\n",
       "      <td>6.3</td>\n",
       "      <td>Black_and_Orange</td>\n",
       "      <td>True</td>\n",
       "      <td>14.0</td>\n",
       "    </tr>\n",
       "    <tr>\n",
       "      <th>1997</th>\n",
       "      <td>1998</td>\n",
       "      <td>10.52</td>\n",
       "      <td>3.27</td>\n",
       "      <td>slowmovingwaters</td>\n",
       "      <td>6.1</td>\n",
       "      <td>Orange</td>\n",
       "      <td>True</td>\n",
       "      <td>13.1</td>\n",
       "    </tr>\n",
       "    <tr>\n",
       "      <th>1998</th>\n",
       "      <td>1999</td>\n",
       "      <td>7.70</td>\n",
       "      <td>15.41</td>\n",
       "      <td>ponds</td>\n",
       "      <td>7.8</td>\n",
       "      <td>Orange</td>\n",
       "      <td>False</td>\n",
       "      <td>15.6</td>\n",
       "    </tr>\n",
       "    <tr>\n",
       "      <th>1999</th>\n",
       "      <td>2000</td>\n",
       "      <td>11.55</td>\n",
       "      <td>11.61</td>\n",
       "      <td>idlewater</td>\n",
       "      <td>7.5</td>\n",
       "      <td>Red_and_Silver</td>\n",
       "      <td>False</td>\n",
       "      <td>13.6</td>\n",
       "    </tr>\n",
       "  </tbody>\n",
       "</table>\n",
       "<p>2000 rows × 8 columns</p>\n",
       "</div>"
      ],
      "text/plain": [
       "        id  average_length(inches))  average_weight(inches))  \\\n",
       "0        1                    14.69                     5.87   \n",
       "1        2                     1.32                     3.86   \n",
       "2        3                    14.23                    12.09   \n",
       "3        4                     2.54                     3.20   \n",
       "4        5                    13.10                     9.81   \n",
       "...    ...                      ...                      ...   \n",
       "1995  1996                    16.12                     6.46   \n",
       "1996  1997                     7.50                     7.07   \n",
       "1997  1998                    10.52                     3.27   \n",
       "1998  1999                     7.70                    15.41   \n",
       "1999  2000                    11.55                    11.61   \n",
       "\n",
       "               habitat  ph_of_water                   color Gender  life_span  \n",
       "0                ponds          6.2          Reddish_Orange  False       10.9  \n",
       "1            idlewater          6.8                  Calico   True        5.2  \n",
       "2                lakes          7.9          Reddish_Orange   True       25.3  \n",
       "3               rivers          6.7                   White  False       16.4  \n",
       "4                lakes          7.8                  Orange   True        3.2  \n",
       "...                ...          ...                     ...    ...        ...  \n",
       "1995             ponds          8.0  Red_and_White_Bi_Color    NaN        6.4  \n",
       "1996            rivers          6.3        Black_and_Orange   True       14.0  \n",
       "1997  slowmovingwaters          6.1                  Orange   True       13.1  \n",
       "1998             ponds          7.8                  Orange  False       15.6  \n",
       "1999         idlewater          7.5          Red_and_Silver  False       13.6  \n",
       "\n",
       "[2000 rows x 8 columns]"
      ]
     },
     "execution_count": 3,
     "metadata": {},
     "output_type": "execute_result"
    }
   ],
   "source": [
    "data"
   ]
  },
  {
   "cell_type": "code",
   "execution_count": 4,
   "metadata": {},
   "outputs": [
    {
     "name": "stdout",
     "output_type": "stream",
     "text": [
      "<class 'pandas.core.frame.DataFrame'>\n",
      "RangeIndex: 2000 entries, 0 to 1999\n",
      "Data columns (total 8 columns):\n",
      " #   Column                   Non-Null Count  Dtype  \n",
      "---  ------                   --------------  -----  \n",
      " 0   id                       2000 non-null   int64  \n",
      " 1   average_length(inches))  2000 non-null   float64\n",
      " 2   average_weight(inches))  2000 non-null   float64\n",
      " 3   habitat                  2000 non-null   object \n",
      " 4   ph_of_water              2000 non-null   float64\n",
      " 5   color                    2000 non-null   object \n",
      " 6   Gender                   1976 non-null   object \n",
      " 7   life_span                2000 non-null   float64\n",
      "dtypes: float64(4), int64(1), object(3)\n",
      "memory usage: 125.1+ KB\n"
     ]
    }
   ],
   "source": [
    "data.info()"
   ]
  },
  {
   "cell_type": "markdown",
   "metadata": {},
   "source": [
    "Notice the null values for the gender feature; I opted to just drop this data completely. We then create the training set and testing set. I use the convention of allocating 20% of our data to test set."
   ]
  },
  {
   "cell_type": "code",
   "execution_count": 5,
   "metadata": {},
   "outputs": [],
   "source": [
    "data = data.dropna()"
   ]
  },
  {
   "cell_type": "code",
   "execution_count": 6,
   "metadata": {},
   "outputs": [
    {
     "name": "stdout",
     "output_type": "stream",
     "text": [
      "<class 'pandas.core.frame.DataFrame'>\n",
      "Index: 1976 entries, 0 to 1999\n",
      "Data columns (total 8 columns):\n",
      " #   Column                   Non-Null Count  Dtype  \n",
      "---  ------                   --------------  -----  \n",
      " 0   id                       1976 non-null   int64  \n",
      " 1   average_length(inches))  1976 non-null   float64\n",
      " 2   average_weight(inches))  1976 non-null   float64\n",
      " 3   habitat                  1976 non-null   object \n",
      " 4   ph_of_water              1976 non-null   float64\n",
      " 5   color                    1976 non-null   object \n",
      " 6   Gender                   1976 non-null   object \n",
      " 7   life_span                1976 non-null   float64\n",
      "dtypes: float64(4), int64(1), object(3)\n",
      "memory usage: 138.9+ KB\n"
     ]
    }
   ],
   "source": [
    "data.info()"
   ]
  },
  {
   "cell_type": "code",
<<<<<<< HEAD
   "execution_count": 7,
=======
   "execution_count": 29,
>>>>>>> ad9a1238005a8ac8ecd0375acc97aa3c7ba8aa7b
   "metadata": {},
   "outputs": [
    {
     "name": "stdout",
     "output_type": "stream",
     "text": [
      "<class 'pandas.core.frame.DataFrame'>\n",
      "Index: 1976 entries, 0 to 1999\n",
      "Data columns (total 7 columns):\n",
      " #   Column                   Non-Null Count  Dtype  \n",
      "---  ------                   --------------  -----  \n",
      " 0   id                       1976 non-null   int64  \n",
      " 1   average_length(inches))  1976 non-null   float64\n",
      " 2   average_weight(inches))  1976 non-null   float64\n",
      " 3   habitat                  1976 non-null   object \n",
      " 4   ph_of_water              1976 non-null   float64\n",
      " 5   color                    1976 non-null   object \n",
      " 6   Gender                   1976 non-null   object \n",
      "dtypes: float64(3), int64(1), object(3)\n",
      "memory usage: 123.5+ KB\n"
     ]
    }
   ],
   "source": [
    "from sklearn.model_selection import train_test_split\n",
    "X = data.drop(['life_span'], axis = 1)\n",
<<<<<<< HEAD
    "X = X.rename(columns = {\"average_weight(inches))\" : \"average_weight(ounces))\"})\n",
=======
    "X.rename(columns={\"average_weight(inches))\" : \"average_weight(ounces))\"})\n",
    "X\n",
>>>>>>> ad9a1238005a8ac8ecd0375acc97aa3c7ba8aa7b
    "y = data[\"life_span\"]"
   ]
  },
  {
   "cell_type": "code",
<<<<<<< HEAD
   "execution_count": 8,
=======
   "execution_count": 24,
>>>>>>> ad9a1238005a8ac8ecd0375acc97aa3c7ba8aa7b
   "metadata": {},
   "outputs": [],
   "source": [
    "X_train, X_test, y_train, y_test = train_test_split(X,y, test_size = 0.2)"
   ]
  },
  {
   "cell_type": "code",
<<<<<<< HEAD
   "execution_count": 9,
   "metadata": {},
   "outputs": [
    {
     "name": "stdout",
     "output_type": "stream",
     "text": [
      "<class 'pandas.core.frame.DataFrame'>\n",
      "Index: 1580 entries, 546 to 842\n",
      "Data columns (total 8 columns):\n",
      " #   Column                   Non-Null Count  Dtype  \n",
      "---  ------                   --------------  -----  \n",
      " 0   id                       1580 non-null   int64  \n",
      " 1   average_length(inches))  1580 non-null   float64\n",
      " 2   average_weight(ounces))  1580 non-null   float64\n",
      " 3   habitat                  1580 non-null   object \n",
      " 4   ph_of_water              1580 non-null   float64\n",
      " 5   color                    1580 non-null   object \n",
      " 6   Gender                   1580 non-null   object \n",
      " 7   life_span                1580 non-null   float64\n",
      "dtypes: float64(4), int64(1), object(3)\n",
      "memory usage: 175.6+ KB\n"
     ]
    }
   ],
   "source": [
    "train_set = X_train.join(y_train)\n",
    "train_set.info()"
   ]
  },
  {
   "cell_type": "markdown",
   "metadata": {},
   "source": [
    "Ignoring the object types, create a heatmap of our training set to see what features correlate with the lifespan. In this case, we can observe that there is low correlation for all the features. This  that there is not necessarily not a linear association with any one feature to the life_span. "
   ]
  },
  {
   "cell_type": "code",
   "execution_count": 10,
   "metadata": {},
   "outputs": [
    {
     "data": {
      "text/plain": [
       "<Axes: >"
      ]
     },
     "execution_count": 10,
     "metadata": {},
     "output_type": "execute_result"
    },
    {
     "data": {
      "image/png": "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",
      "text/plain": [
       "<Figure size 640x480 with 2 Axes>"
      ]
     },
     "metadata": {},
     "output_type": "display_data"
    }
   ],
   "source": [
    "sns.heatmap(train_set[['id', 'average_length(inches))', 'average_weight(ounces))', \"ph_of_water\", \"life_span\"]].corr(), annot = True, cmap = \"YlGnBu\")"
   ]
  },
  {
   "cell_type": "markdown",
   "metadata": {},
   "source": [
    "Observe the train_set histogram: we see a relatively equal distribution.\n",
    "We could pursue an np.log function on our features, but it will actually cause more skewed data."
   ]
  },
  {
   "cell_type": "code",
   "execution_count": 11,
   "metadata": {},
   "outputs": [
    {
     "data": {
      "text/plain": [
       "array([[<Axes: title={'center': 'id'}>,\n",
       "        <Axes: title={'center': 'average_length(inches))'}>],\n",
       "       [<Axes: title={'center': 'average_weight(ounces))'}>,\n",
       "        <Axes: title={'center': 'ph_of_water'}>],\n",
       "       [<Axes: title={'center': 'life_span'}>, <Axes: >]], dtype=object)"
      ]
     },
     "execution_count": 11,
     "metadata": {},
     "output_type": "execute_result"
    },
    {
     "data": {
      "image/png": "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",
      "text/plain": [
       "<Figure size 1500x800 with 6 Axes>"
      ]
     },
     "metadata": {},
     "output_type": "display_data"
    }
   ],
   "source": [
    "train_set[['id', 'average_length(inches))', 'average_weight(ounces))', \"ph_of_water\", \"life_span\"]].hist(figsize = (15,8))"
   ]
  },
  {
   "cell_type": "code",
   "execution_count": 12,
   "metadata": {},
   "outputs": [],
   "source": [
    "train_set = train_set.join(pd.get_dummies(train_set.habitat, dtype = 'int')).drop(['habitat'], axis = 1)\n",
    "train_set = train_set.join(pd.get_dummies(train_set.color, dtype = 'int')).drop(['color'], axis = 1)\n",
    "train_set = train_set.join(pd.get_dummies(train_set.Gender, dtype = 'int')).drop(['Gender'], axis = 1)"
   ]
  },
  {
   "cell_type": "code",
   "execution_count": 13,
   "metadata": {},
   "outputs": [],
   "source": [
    "train_set = train_set.rename(columns = {True : \"Male\", False : \"Female\"})"
   ]
  },
  {
   "cell_type": "code",
   "execution_count": 14,
   "metadata": {},
   "outputs": [
    {
     "name": "stdout",
     "output_type": "stream",
     "text": [
      "<class 'pandas.core.frame.DataFrame'>\n",
      "Index: 1580 entries, 546 to 842\n",
      "Data columns (total 21 columns):\n",
      " #   Column                   Non-Null Count  Dtype  \n",
      "---  ------                   --------------  -----  \n",
      " 0   id                       1580 non-null   int64  \n",
      " 1   average_length(inches))  1580 non-null   float64\n",
      " 2   average_weight(ounces))  1580 non-null   float64\n",
      " 3   ph_of_water              1580 non-null   float64\n",
      " 4   life_span                1580 non-null   float64\n",
      " 5   idlewater                1580 non-null   int32  \n",
      " 6   lakes                    1580 non-null   int32  \n",
      " 7   ponds                    1580 non-null   int32  \n",
      " 8   rivers                   1580 non-null   int32  \n",
      " 9   slowmovingwaters         1580 non-null   int32  \n",
      " 10  Black_and_Orange         1580 non-null   int32  \n",
      " 11  Calico                   1580 non-null   int32  \n",
      " 12  Green_and_Chocolate      1580 non-null   int32  \n",
      " 13  Orange                   1580 non-null   int32  \n",
      " 14  Red_and_Silver           1580 non-null   int32  \n",
      " 15  Red_and_White_Bi_Color   1580 non-null   int32  \n",
      " 16  Reddish_Orange           1580 non-null   int32  \n",
      " 17  White                    1580 non-null   int32  \n",
      " 18  Yellow                   1580 non-null   int32  \n",
      " 19  Female                   1580 non-null   int32  \n",
      " 20  Male                     1580 non-null   int32  \n",
      "dtypes: float64(4), int32(16), int64(1)\n",
      "memory usage: 237.4 KB\n"
     ]
    }
   ],
   "source": [
    "train_set.info()"
=======
   "execution_count": 28,
   "metadata": {},
   "outputs": [
    {
     "name": "stdout",
     "output_type": "stream",
     "text": [
      "<class 'pandas.core.frame.DataFrame'>\n",
      "Index: 1580 entries, 905 to 1572\n",
      "Data columns (total 8 columns):\n",
      " #   Column                   Non-Null Count  Dtype  \n",
      "---  ------                   --------------  -----  \n",
      " 0   id                       1580 non-null   int64  \n",
      " 1   average_length(inches))  1580 non-null   float64\n",
      " 2   average_weight(inches))  1580 non-null   float64\n",
      " 3   habitat                  1580 non-null   object \n",
      " 4   ph_of_water              1580 non-null   float64\n",
      " 5   color                    1580 non-null   object \n",
      " 6   Gender                   1580 non-null   object \n",
      " 7   life_span                1580 non-null   float64\n",
      "dtypes: float64(4), int64(1), object(3)\n",
      "memory usage: 175.6+ KB\n"
     ]
    }
   ],
   "source": [
    "\n",
    "train_set = X_train.join(y_train)\n",
    "train_set.info()"
   ]
  },
  {
   "cell_type": "code",
   "execution_count": 26,
   "metadata": {},
   "outputs": [
    {
     "data": {
      "text/html": [
       "<div>\n",
       "<style scoped>\n",
       "    .dataframe tbody tr th:only-of-type {\n",
       "        vertical-align: middle;\n",
       "    }\n",
       "\n",
       "    .dataframe tbody tr th {\n",
       "        vertical-align: top;\n",
       "    }\n",
       "\n",
       "    .dataframe thead th {\n",
       "        text-align: right;\n",
       "    }\n",
       "</style>\n",
       "<table border=\"1\" class=\"dataframe\">\n",
       "  <thead>\n",
       "    <tr style=\"text-align: right;\">\n",
       "      <th></th>\n",
       "      <th>id</th>\n",
       "      <th>average_length(inches))</th>\n",
       "      <th>average_weight(inches))</th>\n",
       "      <th>ph_of_water</th>\n",
       "      <th>life_span</th>\n",
       "    </tr>\n",
       "  </thead>\n",
       "  <tbody>\n",
       "    <tr>\n",
       "      <th>id</th>\n",
       "      <td>1.000000</td>\n",
       "      <td>0.017096</td>\n",
       "      <td>0.039335</td>\n",
       "      <td>-0.010106</td>\n",
       "      <td>-0.014096</td>\n",
       "    </tr>\n",
       "    <tr>\n",
       "      <th>average_length(inches))</th>\n",
       "      <td>0.017096</td>\n",
       "      <td>1.000000</td>\n",
       "      <td>0.015193</td>\n",
       "      <td>-0.040469</td>\n",
       "      <td>0.011500</td>\n",
       "    </tr>\n",
       "    <tr>\n",
       "      <th>average_weight(inches))</th>\n",
       "      <td>0.039335</td>\n",
       "      <td>0.015193</td>\n",
       "      <td>1.000000</td>\n",
       "      <td>-0.020151</td>\n",
       "      <td>0.030362</td>\n",
       "    </tr>\n",
       "    <tr>\n",
       "      <th>ph_of_water</th>\n",
       "      <td>-0.010106</td>\n",
       "      <td>-0.040469</td>\n",
       "      <td>-0.020151</td>\n",
       "      <td>1.000000</td>\n",
       "      <td>-0.037255</td>\n",
       "    </tr>\n",
       "    <tr>\n",
       "      <th>life_span</th>\n",
       "      <td>-0.014096</td>\n",
       "      <td>0.011500</td>\n",
       "      <td>0.030362</td>\n",
       "      <td>-0.037255</td>\n",
       "      <td>1.000000</td>\n",
       "    </tr>\n",
       "  </tbody>\n",
       "</table>\n",
       "</div>"
      ],
      "text/plain": [
       "                               id  average_length(inches))  \\\n",
       "id                       1.000000                 0.017096   \n",
       "average_length(inches))  0.017096                 1.000000   \n",
       "average_weight(inches))  0.039335                 0.015193   \n",
       "ph_of_water             -0.010106                -0.040469   \n",
       "life_span               -0.014096                 0.011500   \n",
       "\n",
       "                         average_weight(inches))  ph_of_water  life_span  \n",
       "id                                      0.039335    -0.010106  -0.014096  \n",
       "average_length(inches))                 0.015193    -0.040469   0.011500  \n",
       "average_weight(inches))                 1.000000    -0.020151   0.030362  \n",
       "ph_of_water                            -0.020151     1.000000  -0.037255  \n",
       "life_span                               0.030362    -0.037255   1.000000  "
      ]
     },
     "execution_count": 26,
     "metadata": {},
     "output_type": "execute_result"
    }
   ],
   "source": [
    "train_set[['id', 'average_length(inches))', 'average_weight(inches))', \"ph_of_water\", \"life_span\"]].corr()"
>>>>>>> ad9a1238005a8ac8ecd0375acc97aa3c7ba8aa7b
   ]
  },
  {
   "cell_type": "code",
   "execution_count": null,
   "metadata": {},
   "outputs": [],
   "source": []
  },
  {
   "cell_type": "code",
   "execution_count": null,
   "metadata": {},
   "outputs": [],
   "source": []
  }
 ],
 "metadata": {
  "kernelspec": {
   "display_name": "Python 3",
   "language": "python",
   "name": "python3"
  },
  "language_info": {
   "codemirror_mode": {
    "name": "ipython",
    "version": 3
   },
   "file_extension": ".py",
   "mimetype": "text/x-python",
   "name": "python",
   "nbconvert_exporter": "python",
   "pygments_lexer": "ipython3",
   "version": "3.11.2"
  }
 },
 "nbformat": 4,
 "nbformat_minor": 2
}
