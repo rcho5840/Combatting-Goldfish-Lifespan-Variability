{
 "cells": [
  {
   "cell_type": "markdown",
   "metadata": {},
   "source": [
    "Import necessary libraries, initialize a pandas dataframe with the fish_data, and observe the features and potential preprocessing paths"
   ]
  },
  {
   "cell_type": "code",
   "execution_count": 12,
   "metadata": {},
   "outputs": [
    {
     "ename": "ModuleNotFoundError",
     "evalue": "No module named 'sklearn'",
     "output_type": "error",
     "traceback": [
      "\u001b[1;31m---------------------------------------------------------------------------\u001b[0m",
      "\u001b[1;31mModuleNotFoundError\u001b[0m                       Traceback (most recent call last)",
      "Cell \u001b[1;32mIn[12], line 5\u001b[0m\n\u001b[0;32m      3\u001b[0m \u001b[38;5;28;01mimport\u001b[39;00m \u001b[38;5;21;01mnumpy\u001b[39;00m \u001b[38;5;28;01mas\u001b[39;00m \u001b[38;5;21;01mnp\u001b[39;00m \n\u001b[0;32m      4\u001b[0m \u001b[38;5;28;01mimport\u001b[39;00m \u001b[38;5;21;01mseaborn\u001b[39;00m \u001b[38;5;28;01mas\u001b[39;00m \u001b[38;5;21;01msns\u001b[39;00m \n\u001b[1;32m----> 5\u001b[0m \u001b[38;5;28;01mimport\u001b[39;00m \u001b[38;5;21;01msklearn\u001b[39;00m\n",
      "\u001b[1;31mModuleNotFoundError\u001b[0m: No module named 'sklearn'"
     ]
    }
   ],
   "source": [
    "import pandas as pd\n",
    "import matplotlib.pyplot as plt \n",
    "import numpy as np \n",
    "import seaborn as sns \n",
    "import sklearn"
   ]
  },
  {
   "cell_type": "code",
   "execution_count": 3,
   "metadata": {},
   "outputs": [],
   "source": [
    "data = pd.read_csv(\"fish_data.csv\")"
   ]
  },
  {
   "cell_type": "code",
   "execution_count": 4,
   "metadata": {},
   "outputs": [
    {
     "data": {
      "text/html": [
       "<div>\n",
       "<style scoped>\n",
       "    .dataframe tbody tr th:only-of-type {\n",
       "        vertical-align: middle;\n",
       "    }\n",
       "\n",
       "    .dataframe tbody tr th {\n",
       "        vertical-align: top;\n",
       "    }\n",
       "\n",
       "    .dataframe thead th {\n",
       "        text-align: right;\n",
       "    }\n",
       "</style>\n",
       "<table border=\"1\" class=\"dataframe\">\n",
       "  <thead>\n",
       "    <tr style=\"text-align: right;\">\n",
       "      <th></th>\n",
       "      <th>id</th>\n",
       "      <th>average_length(inches))</th>\n",
       "      <th>average_weight(inches))</th>\n",
       "      <th>habitat</th>\n",
       "      <th>ph_of_water</th>\n",
       "      <th>color</th>\n",
       "      <th>Gender</th>\n",
       "      <th>life_span</th>\n",
       "    </tr>\n",
       "  </thead>\n",
       "  <tbody>\n",
       "    <tr>\n",
       "      <th>0</th>\n",
       "      <td>1</td>\n",
       "      <td>14.69</td>\n",
       "      <td>5.87</td>\n",
       "      <td>ponds</td>\n",
       "      <td>6.2</td>\n",
       "      <td>Reddish_Orange</td>\n",
       "      <td>False</td>\n",
       "      <td>10.9</td>\n",
       "    </tr>\n",
       "    <tr>\n",
       "      <th>1</th>\n",
       "      <td>2</td>\n",
       "      <td>1.32</td>\n",
       "      <td>3.86</td>\n",
       "      <td>idlewater</td>\n",
       "      <td>6.8</td>\n",
       "      <td>Calico</td>\n",
       "      <td>True</td>\n",
       "      <td>5.2</td>\n",
       "    </tr>\n",
       "    <tr>\n",
       "      <th>2</th>\n",
       "      <td>3</td>\n",
       "      <td>14.23</td>\n",
       "      <td>12.09</td>\n",
       "      <td>lakes</td>\n",
       "      <td>7.9</td>\n",
       "      <td>Reddish_Orange</td>\n",
       "      <td>True</td>\n",
       "      <td>25.3</td>\n",
       "    </tr>\n",
       "    <tr>\n",
       "      <th>3</th>\n",
       "      <td>4</td>\n",
       "      <td>2.54</td>\n",
       "      <td>3.20</td>\n",
       "      <td>rivers</td>\n",
       "      <td>6.7</td>\n",
       "      <td>White</td>\n",
       "      <td>False</td>\n",
       "      <td>16.4</td>\n",
       "    </tr>\n",
       "    <tr>\n",
       "      <th>4</th>\n",
       "      <td>5</td>\n",
       "      <td>13.10</td>\n",
       "      <td>9.81</td>\n",
       "      <td>lakes</td>\n",
       "      <td>7.8</td>\n",
       "      <td>Orange</td>\n",
       "      <td>True</td>\n",
       "      <td>3.2</td>\n",
       "    </tr>\n",
       "    <tr>\n",
       "      <th>...</th>\n",
       "      <td>...</td>\n",
       "      <td>...</td>\n",
       "      <td>...</td>\n",
       "      <td>...</td>\n",
       "      <td>...</td>\n",
       "      <td>...</td>\n",
       "      <td>...</td>\n",
       "      <td>...</td>\n",
       "    </tr>\n",
       "    <tr>\n",
       "      <th>1995</th>\n",
       "      <td>1996</td>\n",
       "      <td>16.12</td>\n",
       "      <td>6.46</td>\n",
       "      <td>ponds</td>\n",
       "      <td>8.0</td>\n",
       "      <td>Red_and_White_Bi_Color</td>\n",
       "      <td>NaN</td>\n",
       "      <td>6.4</td>\n",
       "    </tr>\n",
       "    <tr>\n",
       "      <th>1996</th>\n",
       "      <td>1997</td>\n",
       "      <td>7.50</td>\n",
       "      <td>7.07</td>\n",
       "      <td>rivers</td>\n",
       "      <td>6.3</td>\n",
       "      <td>Black_and_Orange</td>\n",
       "      <td>True</td>\n",
       "      <td>14.0</td>\n",
       "    </tr>\n",
       "    <tr>\n",
       "      <th>1997</th>\n",
       "      <td>1998</td>\n",
       "      <td>10.52</td>\n",
       "      <td>3.27</td>\n",
       "      <td>slowmovingwaters</td>\n",
       "      <td>6.1</td>\n",
       "      <td>Orange</td>\n",
       "      <td>True</td>\n",
       "      <td>13.1</td>\n",
       "    </tr>\n",
       "    <tr>\n",
       "      <th>1998</th>\n",
       "      <td>1999</td>\n",
       "      <td>7.70</td>\n",
       "      <td>15.41</td>\n",
       "      <td>ponds</td>\n",
       "      <td>7.8</td>\n",
       "      <td>Orange</td>\n",
       "      <td>False</td>\n",
       "      <td>15.6</td>\n",
       "    </tr>\n",
       "    <tr>\n",
       "      <th>1999</th>\n",
       "      <td>2000</td>\n",
       "      <td>11.55</td>\n",
       "      <td>11.61</td>\n",
       "      <td>idlewater</td>\n",
       "      <td>7.5</td>\n",
       "      <td>Red_and_Silver</td>\n",
       "      <td>False</td>\n",
       "      <td>13.6</td>\n",
       "    </tr>\n",
       "  </tbody>\n",
       "</table>\n",
       "<p>2000 rows × 8 columns</p>\n",
       "</div>"
      ],
      "text/plain": [
       "        id  average_length(inches))  average_weight(inches))  \\\n",
       "0        1                    14.69                     5.87   \n",
       "1        2                     1.32                     3.86   \n",
       "2        3                    14.23                    12.09   \n",
       "3        4                     2.54                     3.20   \n",
       "4        5                    13.10                     9.81   \n",
       "...    ...                      ...                      ...   \n",
       "1995  1996                    16.12                     6.46   \n",
       "1996  1997                     7.50                     7.07   \n",
       "1997  1998                    10.52                     3.27   \n",
       "1998  1999                     7.70                    15.41   \n",
       "1999  2000                    11.55                    11.61   \n",
       "\n",
       "               habitat  ph_of_water                   color Gender  life_span  \n",
       "0                ponds          6.2          Reddish_Orange  False       10.9  \n",
       "1            idlewater          6.8                  Calico   True        5.2  \n",
       "2                lakes          7.9          Reddish_Orange   True       25.3  \n",
       "3               rivers          6.7                   White  False       16.4  \n",
       "4                lakes          7.8                  Orange   True        3.2  \n",
       "...                ...          ...                     ...    ...        ...  \n",
       "1995             ponds          8.0  Red_and_White_Bi_Color    NaN        6.4  \n",
       "1996            rivers          6.3        Black_and_Orange   True       14.0  \n",
       "1997  slowmovingwaters          6.1                  Orange   True       13.1  \n",
       "1998             ponds          7.8                  Orange  False       15.6  \n",
       "1999         idlewater          7.5          Red_and_Silver  False       13.6  \n",
       "\n",
       "[2000 rows x 8 columns]"
      ]
     },
     "execution_count": 4,
     "metadata": {},
     "output_type": "execute_result"
    }
   ],
   "source": [
    "data"
   ]
  },
  {
   "cell_type": "code",
   "execution_count": 5,
   "metadata": {},
   "outputs": [
    {
     "name": "stdout",
     "output_type": "stream",
     "text": [
      "<class 'pandas.core.frame.DataFrame'>\n",
      "RangeIndex: 2000 entries, 0 to 1999\n",
      "Data columns (total 8 columns):\n",
      " #   Column                   Non-Null Count  Dtype  \n",
      "---  ------                   --------------  -----  \n",
      " 0   id                       2000 non-null   int64  \n",
      " 1   average_length(inches))  2000 non-null   float64\n",
      " 2   average_weight(inches))  2000 non-null   float64\n",
      " 3   habitat                  2000 non-null   object \n",
      " 4   ph_of_water              2000 non-null   float64\n",
      " 5   color                    2000 non-null   object \n",
      " 6   Gender                   1976 non-null   object \n",
      " 7   life_span                2000 non-null   float64\n",
      "dtypes: float64(4), int64(1), object(3)\n",
      "memory usage: 125.1+ KB\n"
     ]
    }
   ],
   "source": [
    "data.info()"
   ]
  },
  {
   "cell_type": "markdown",
   "metadata": {},
   "source": [
    "Notice the null values for the gender feature; I opted to just drop this data completely"
   ]
  },
  {
   "cell_type": "code",
   "execution_count": 6,
   "metadata": {},
   "outputs": [],
   "source": [
    "data = data.dropna()"
   ]
  },
  {
   "cell_type": "code",
   "execution_count": 10,
   "metadata": {},
   "outputs": [
    {
     "name": "stdout",
     "output_type": "stream",
     "text": [
      "<class 'pandas.core.frame.DataFrame'>\n",
      "Index: 1976 entries, 0 to 1999\n",
      "Data columns (total 8 columns):\n",
      " #   Column                   Non-Null Count  Dtype  \n",
      "---  ------                   --------------  -----  \n",
      " 0   id                       1976 non-null   int64  \n",
      " 1   average_length(inches))  1976 non-null   float64\n",
      " 2   average_weight(inches))  1976 non-null   float64\n",
      " 3   habitat                  1976 non-null   object \n",
      " 4   ph_of_water              1976 non-null   float64\n",
      " 5   color                    1976 non-null   object \n",
      " 6   Gender                   1976 non-null   object \n",
      " 7   life_span                1976 non-null   float64\n",
      "dtypes: float64(4), int64(1), object(3)\n",
      "memory usage: 138.9+ KB\n"
     ]
    }
   ],
   "source": [
    "data.info()"
   ]
  },
  {
   "cell_type": "code",
   "execution_count": 11,
   "metadata": {},
   "outputs": [
    {
     "ename": "ModuleNotFoundError",
     "evalue": "No module named 'sklearn'",
     "output_type": "error",
     "traceback": [
      "\u001b[1;31m---------------------------------------------------------------------------\u001b[0m",
      "\u001b[1;31mModuleNotFoundError\u001b[0m                       Traceback (most recent call last)",
      "Cell \u001b[1;32mIn[11], line 1\u001b[0m\n\u001b[1;32m----> 1\u001b[0m \u001b[38;5;28;01mfrom\u001b[39;00m \u001b[38;5;21;01msklearn\u001b[39;00m\u001b[38;5;21;01m.\u001b[39;00m\u001b[38;5;21;01mmodel_selection\u001b[39;00m \u001b[38;5;28;01mimport\u001b[39;00m train_test_split\n\u001b[0;32m      3\u001b[0m X \u001b[38;5;241m=\u001b[39m data\u001b[38;5;241m.\u001b[39mdrop([\u001b[38;5;124m'\u001b[39m\u001b[38;5;124mlife_span\u001b[39m\u001b[38;5;124m'\u001b[39m], axis \u001b[38;5;241m=\u001b[39m \u001b[38;5;241m1\u001b[39m)\n\u001b[0;32m      4\u001b[0m y \u001b[38;5;241m=\u001b[39m data[\u001b[38;5;124m\"\u001b[39m\u001b[38;5;124mlife_span\u001b[39m\u001b[38;5;124m\"\u001b[39m]\n",
      "\u001b[1;31mModuleNotFoundError\u001b[0m: No module named 'sklearn'"
     ]
    }
   ],
   "source": [
    "from sklearn.model_selection import train_test_split\n",
    "\n",
    "X = data.drop(['life_span'], axis = 1)\n",
    "y = data[\"life_span\"]"
   ]
  },
  {
   "cell_type": "code",
   "execution_count": null,
   "metadata": {},
   "outputs": [],
   "source": []
  },
  {
   "cell_type": "code",
   "execution_count": null,
   "metadata": {},
   "outputs": [],
   "source": []
  },
  {
   "cell_type": "code",
   "execution_count": null,
   "metadata": {},
   "outputs": [],
   "source": []
  }
 ],
 "metadata": {
  "kernelspec": {
   "display_name": "Python 3",
   "language": "python",
   "name": "python3"
  },
  "language_info": {
   "codemirror_mode": {
    "name": "ipython",
    "version": 3
   },
   "file_extension": ".py",
   "mimetype": "text/x-python",
   "name": "python",
   "nbconvert_exporter": "python",
   "pygments_lexer": "ipython3",
   "version": "3.11.2"
  }
 },
 "nbformat": 4,
 "nbformat_minor": 2
}
